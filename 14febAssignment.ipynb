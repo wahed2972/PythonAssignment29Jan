{
 "cells": [
  {
   "cell_type": "code",
   "execution_count": null,
   "id": "7b6cab3e-84f3-466f-971a-05cc45b4ef6d",
   "metadata": {},
   "outputs": [],
   "source": [
    "# Q.1\n",
    "# Multithreading in python is to run multiple threads concurrently within a single program\n",
    "# It is used to achieve parallelism and to improve the performance of programs\n",
    "# threading module used to handle threads in python"
   ]
  },
  {
   "cell_type": "code",
   "execution_count": null,
   "id": "a28f874e-9cec-458f-9b13-e0ebde2e8c08",
   "metadata": {},
   "outputs": [],
   "source": [
    "# Q.2\n",
    "# Threading module is used to create and manage threads in a multithreaded program, it is used to utlize the CPU performance.\n",
    "# 1.activeCount\n",
    "# It returns the threads which are currently active. It counts the number of active and running threads\n",
    "\n",
    "# 2.currentThread\n",
    "# It returns the thread which is currently running, it gives a reference to the active thread\n",
    "\n",
    "# 3.enumerate\n",
    "# It returns a list of objects which are currently active, which can be used for furher operations efficiently"
   ]
  },
  {
   "cell_type": "code",
   "execution_count": null,
   "id": "79f5e31a-71ab-4348-9534-025c77029523",
   "metadata": {},
   "outputs": [],
   "source": [
    "# Q.3\n",
    "# 1.run\n",
    "# It will be executed when thread is started. It will be automatically invoked when a start method is called.\n",
    "\n",
    "# 2.start\n",
    "# It is used to start the execution of thread. It creates a new thread and calls the run method.\n",
    "\n",
    "# 3.join\n",
    "# It is used to block the execution of current thread until the thread on which it is called is finished\n",
    "\n",
    "# 4.isAlive\n",
    "# It returns a boolean value indicating whether a thread is active or not"
   ]
  },
  {
   "cell_type": "code",
   "execution_count": 6,
   "id": "dd9fd5c1-c5e4-4092-a027-2e80d0a0b682",
   "metadata": {},
   "outputs": [
    {
     "name": "stdout",
     "output_type": "stream",
     "text": [
      "Squares:\n",
      "1\n",
      "4\n",
      "9\n",
      "16\n",
      "25\n",
      "36\n",
      "49\n",
      "64\n",
      "81\n",
      "100\n",
      "Cubes:\n",
      "1\n",
      "8\n",
      "27\n",
      "64\n",
      "125\n",
      "216\n",
      "343\n",
      "512\n",
      "729\n",
      "1000\n"
     ]
    }
   ],
   "source": [
    "# Q.4\n",
    "import threading\n",
    "\n",
    "def print_sq():\n",
    "    squares = [i**2 for i in range(1,11)]\n",
    "    print(\"Squares:\")\n",
    "    for n in squares:\n",
    "        print(n)\n",
    "\n",
    "def print_cube():\n",
    "    print(\"Cubes:\")\n",
    "    cubes = [i**3 for i in range(1,11)]\n",
    "    for n in cubes:\n",
    "        print(n)\n",
    "\n",
    "thread1 = threading.Thread(target=print_sq)\n",
    "thread2 = threading.Thread(target=print_cube)\n",
    "\n",
    "thread1.start()\n",
    "thread2.start()"
   ]
  },
  {
   "cell_type": "code",
   "execution_count": 7,
   "id": "7ebb6bdb-bdcc-4134-a3fd-f68978b500b0",
   "metadata": {},
   "outputs": [],
   "source": [
    "# Q.5\n",
    "# Advantages of Multithreading\n",
    "# 1. Concurrency\n",
    "# 2. Responsiveness\n",
    "# 3. Resource Sharing\n",
    "# 4. Modularity\n",
    "\n",
    "# Disadvantages of multithreading\n",
    "# 1. Complexity\n",
    "# 2. Synchronization Overhead\n",
    "# 3. Debugging and Testing\n",
    "# 4. Resource Consumption"
   ]
  },
  {
   "cell_type": "code",
   "execution_count": 8,
   "id": "efe83104-d6ec-413a-a4fc-6c8f06f13225",
   "metadata": {},
   "outputs": [],
   "source": [
    "# Q.6\n",
    "# Deadlock\n",
    "# A deadlock is a situation where two or more threads are unable to proceed because each is waiting for a resource to be released which is held by another thread.\n",
    "# In other words deadlock occurs when two or more threads are stuck in circular wait for resources where the program cant be progressed further\n",
    "\n",
    "# Race Condition\n",
    "# A race condition occurs when two or more threads access shared data or resources concurrently and the final outcome of the program depends on the relative timing or interleaving of their execution.\n"
   ]
  },
  {
   "cell_type": "code",
   "execution_count": null,
   "id": "4d8a056b-dc1a-45c0-99a6-6d40ba04cf98",
   "metadata": {},
   "outputs": [],
   "source": []
  }
 ],
 "metadata": {
  "kernelspec": {
   "display_name": "Python 3 (ipykernel)",
   "language": "python",
   "name": "python3"
  },
  "language_info": {
   "codemirror_mode": {
    "name": "ipython",
    "version": 3
   },
   "file_extension": ".py",
   "mimetype": "text/x-python",
   "name": "python",
   "nbconvert_exporter": "python",
   "pygments_lexer": "ipython3",
   "version": "3.10.8"
  }
 },
 "nbformat": 4,
 "nbformat_minor": 5
}
