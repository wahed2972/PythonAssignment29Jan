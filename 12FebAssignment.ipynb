{
 "cells": [
  {
   "cell_type": "code",
   "execution_count": 1,
   "id": "d4b4b222-0b4d-4dcd-99c1-09a5fd4e807b",
   "metadata": {},
   "outputs": [],
   "source": [
    "# Q.1\n",
    "# An exception is an event that occurs during execution of a program, when an exception comes in a code it handles it with appropriate code\n",
    "# Difference between syntax errors and exception\n",
    "# Syntax errors occurs when the python interpreter encounter code which violates the syntax rules such as missing parenthesis, identation etc\n",
    "# Exception occurs when an exceptional condition or error comes such as invalid input, division by zero, file not found."
   ]
  },
  {
   "cell_type": "code",
   "execution_count": 2,
   "id": "4f976658-c38f-4332-9de9-50d5bc703e31",
   "metadata": {},
   "outputs": [
    {
     "ename": "ZeroDivisionError",
     "evalue": "division by zero",
     "output_type": "error",
     "traceback": [
      "\u001b[0;31m---------------------------------------------------------------------------\u001b[0m",
      "\u001b[0;31mZeroDivisionError\u001b[0m                         Traceback (most recent call last)",
      "Cell \u001b[0;32mIn[2], line 8\u001b[0m\n\u001b[1;32m      5\u001b[0m     r\u001b[38;5;241m=\u001b[39ma\u001b[38;5;241m/\u001b[39mb\n\u001b[1;32m      6\u001b[0m     \u001b[38;5;28;01mreturn\u001b[39;00m r\n\u001b[0;32m----> 8\u001b[0m \u001b[43mdivide\u001b[49m\u001b[43m(\u001b[49m\u001b[38;5;241;43m10\u001b[39;49m\u001b[43m,\u001b[49m\u001b[38;5;241;43m0\u001b[39;49m\u001b[43m)\u001b[49m\n\u001b[1;32m     10\u001b[0m \u001b[38;5;66;03m# In this example the number 10 is divided by 0 which is mathematically undefined, so it shows the error of zero division\u001b[39;00m\n\u001b[1;32m     11\u001b[0m \u001b[38;5;66;03m# If we would have handled the exception properly it would have not shown any error\u001b[39;00m\n",
      "Cell \u001b[0;32mIn[2], line 5\u001b[0m, in \u001b[0;36mdivide\u001b[0;34m(a, b)\u001b[0m\n\u001b[1;32m      4\u001b[0m \u001b[38;5;28;01mdef\u001b[39;00m \u001b[38;5;21mdivide\u001b[39m(a,b):\n\u001b[0;32m----> 5\u001b[0m     r\u001b[38;5;241m=\u001b[39m\u001b[43ma\u001b[49m\u001b[38;5;241;43m/\u001b[39;49m\u001b[43mb\u001b[49m\n\u001b[1;32m      6\u001b[0m     \u001b[38;5;28;01mreturn\u001b[39;00m r\n",
      "\u001b[0;31mZeroDivisionError\u001b[0m: division by zero"
     ]
    }
   ],
   "source": [
    "# Q.2\n",
    "# When an exception is not handled in python it leads to unhandled exception which terminates the program with an error message\n",
    "# Example\n",
    "def divide(a,b):\n",
    "    r=a/b\n",
    "    return r\n",
    "\n",
    "divide(10,0)\n",
    "\n",
    "# In this example the number 10 is divided by 0 which is mathematically undefined, so it shows the error of zero division\n",
    "# If we would have handled the exception properly it would have not shown any error"
   ]
  },
  {
   "cell_type": "code",
   "execution_count": 6,
   "id": "f9d59a52-dae2-4865-a02b-b8c869537fc2",
   "metadata": {},
   "outputs": [
    {
     "name": "stdout",
     "output_type": "stream",
     "text": [
      "This is the error - division by zero\n"
     ]
    }
   ],
   "source": [
    "# Q.3\n",
    "# In python try except block is used to catch and handle exception\n",
    "# Example\n",
    "try:\n",
    "    def divide(a,b):\n",
    "        r=a/b\n",
    "        return r\n",
    "\n",
    "    divide(10,0)\n",
    "\n",
    "except Exception as e:\n",
    "    print(\"This is the error -\",e)\n",
    "    \n",
    "# In this example , in the try block it runs the code which divies 10 by 0 which is mathematically undefined so it does not get executed,\n",
    "# so it handles the exception and runs the except block and prints division by zero"
   ]
  },
  {
   "cell_type": "code",
   "execution_count": 25,
   "id": "57822dd3-03a4-4dae-b40b-126620f8a41a",
   "metadata": {},
   "outputs": [
    {
     "name": "stdout",
     "output_type": "stream",
     "text": [
      "No error\n",
      "Final\n"
     ]
    },
    {
     "name": "stdin",
     "output_type": "stream",
     "text": [
      "Enter your age: 4\n"
     ]
    },
    {
     "name": "stdout",
     "output_type": "stream",
     "text": [
      "invalid literal for int() with base 10: 'Not eligible'\n"
     ]
    }
   ],
   "source": [
    "# Q.4\n",
    "# a. try and else\n",
    "# In try and else block , first the try block will be executed if there is no error in try block then it will execute the else block, otherwise the else block will be skipped\n",
    "# Example\n",
    "\n",
    "try:\n",
    "    f=open(\"text1.txt\",\"r\")\n",
    "    f.close()\n",
    "except Exception as e:\n",
    "    print(\"This is the error -\",e)\n",
    "else:\n",
    "    print(\"No error\")\n",
    "    \n",
    "# In this example the file already exist so the try and else block is executed\n",
    "\n",
    "# finally\n",
    "# finally block irrespective of there is an exception or not , if try block is excuted or not , finally block will be executed for sure\n",
    "def divide(a,b):\n",
    "    try:\n",
    "        r=a/b\n",
    "        return r\n",
    "    except Exception as e:\n",
    "        print(\"This is the error -\",e)\n",
    "    finally:\n",
    "        print(\"Final\")\n",
    "\n",
    "divide(10,2)\n",
    "# In this example finally is executed when it finishes try block\n",
    "\n",
    "# raise\n",
    "# raise is used to manaully raise the exception , it is user defined\n",
    "class voting(Exception):\n",
    "    \n",
    "    def __init__(self, msg):\n",
    "        self.msg = msg\n",
    "def voting(age):\n",
    "    if int(age)<0:\n",
    "        raise voting(\"Entered age is negative\")\n",
    "    elif int(age)<18 and int(age>0):\n",
    "        raise voting(\"Not eligible\")\n",
    "    else:\n",
    "        print(\"Eligible\")\n",
    "        \n",
    "try:\n",
    "    age = int(input(\"Enter your age:\"))\n",
    "    voting(age)\n",
    "except ValueError as e:\n",
    "    print(e)\n",
    "    \n",
    "# In this example the if the age is less than 18 it raise the exception for the respective result"
   ]
  },
  {
   "cell_type": "code",
   "execution_count": 26,
   "id": "3381e2be-d692-4fe1-98da-faa448ed8797",
   "metadata": {},
   "outputs": [
    {
     "name": "stdin",
     "output_type": "stream",
     "text": [
      "Enter your age: 5\n"
     ]
    },
    {
     "name": "stdout",
     "output_type": "stream",
     "text": [
      "invalid literal for int() with base 10: 'Not eligible'\n"
     ]
    }
   ],
   "source": [
    "# Q.5\n",
    "# Custom exception is the exception which user defines \n",
    "# Custom exception is needed to solve the exception which user wants to put, which compiler will not give error but it is exception as human point of view\n",
    "# Example\n",
    "class voting(Exception):\n",
    "    \n",
    "    def __init__(self, msg):\n",
    "        self.msg = msg\n",
    "def voting(age):\n",
    "    if int(age)<0:\n",
    "        raise voting(\"Entered age is negative\")\n",
    "    elif int(age)<18 and int(age>0):\n",
    "        raise voting(\"Not eligible\")\n",
    "    else:\n",
    "        print(\"Eligible\")\n",
    "        \n",
    "try:\n",
    "    age = int(input(\"Enter your age:\"))\n",
    "    voting(age)\n",
    "except ValueError as e:\n",
    "    print(e)\n",
    "    \n",
    "# As we know for voting in India , the minimum age is 18 .So we put an exception that age should be greater than or equal to 18\n",
    "# If not then it will throw an exception"
   ]
  },
  {
   "cell_type": "code",
   "execution_count": 27,
   "id": "b76ba20f-7887-47a4-bb0c-527976abbf59",
   "metadata": {},
   "outputs": [
    {
     "name": "stdin",
     "output_type": "stream",
     "text": [
      "Enter your age: 89\n"
     ]
    },
    {
     "name": "stdout",
     "output_type": "stream",
     "text": [
      "Eligible\n"
     ]
    }
   ],
   "source": [
    "# Q.6\n",
    "class voting(Exception):\n",
    "    \n",
    "    def __init__(self, msg):\n",
    "        self.msg = msg\n",
    "def voting(age):\n",
    "    if int(age)<0:\n",
    "        raise voting(\"Entered age is negative\")\n",
    "    elif int(age)<18 and int(age>0):\n",
    "        raise voting(\"Not eligible\")\n",
    "    else:\n",
    "        print(\"Eligible\")\n",
    "        \n",
    "try:\n",
    "    age = int(input(\"Enter your age:\"))\n",
    "    voting(age)\n",
    "except ValueError as e:\n",
    "    print(e)"
   ]
  },
  {
   "cell_type": "code",
   "execution_count": null,
   "id": "6f6ebd8d-29f9-4b3e-bd2d-98f23d794bc6",
   "metadata": {},
   "outputs": [],
   "source": []
  }
 ],
 "metadata": {
  "kernelspec": {
   "display_name": "Python 3 (ipykernel)",
   "language": "python",
   "name": "python3"
  },
  "language_info": {
   "codemirror_mode": {
    "name": "ipython",
    "version": 3
   },
   "file_extension": ".py",
   "mimetype": "text/x-python",
   "name": "python",
   "nbconvert_exporter": "python",
   "pygments_lexer": "ipython3",
   "version": "3.10.8"
  }
 },
 "nbformat": 4,
 "nbformat_minor": 5
}
