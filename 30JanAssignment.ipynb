{
 "cells": [
  {
   "cell_type": "code",
   "execution_count": 1,
   "id": "3f8b58dc-5390-4f39-980a-2f308c7d5212",
   "metadata": {
    "tags": []
   },
   "outputs": [
    {
     "name": "stdin",
     "output_type": "stream",
     "text": [
      "Enter your marks: 85\n"
     ]
    },
    {
     "name": "stdout",
     "output_type": "stream",
     "text": [
      "Grade B\n"
     ]
    }
   ],
   "source": [
    "# Q.1\n",
    "marks=int(input(\"Enter your marks:\"))\n",
    "\n",
    "if marks>90:\n",
    "    print(\"Grade A\")\n",
    "elif marks>80 and marks<=90:\n",
    "    print(\"Grade B\")\n",
    "elif marks>=60 and marks<=80:\n",
    "    print(\"Grade C\")\n",
    "else:\n",
    "    print(\"Grade D\")\n"
   ]
  },
  {
   "cell_type": "code",
   "execution_count": 4,
   "id": "0b299e9d-f166-4673-aa9f-f03a4847b4e1",
   "metadata": {},
   "outputs": [
    {
     "name": "stdin",
     "output_type": "stream",
     "text": [
      "Enter the cost price of a bike: 85000\n"
     ]
    },
    {
     "name": "stdout",
     "output_type": "stream",
     "text": [
      "10% road tax to be paid\n"
     ]
    }
   ],
   "source": [
    "#Q.2\n",
    "cost=int(input(\"Enter the cost price of a bike:\"))\n",
    "\n",
    "if cost>100000:\n",
    "    print(\"15% road tax to be paid\")\n",
    "elif cost>50000 and cost<=100000:\n",
    "    print(\"10% road tax to be paid\")\n",
    "else:\n",
    "    print(\"5% road tax to be paid\")"
   ]
  },
  {
   "cell_type": "code",
   "execution_count": 3,
   "id": "09f9f80b-80d5-48bd-80ee-9413d6499c65",
   "metadata": {},
   "outputs": [
    {
     "name": "stdin",
     "output_type": "stream",
     "text": [
      "Enter the city: Agra\n"
     ]
    },
    {
     "name": "stdout",
     "output_type": "stream",
     "text": [
      "Monument:Taj Mahal\n"
     ]
    }
   ],
   "source": [
    "#Q.3\n",
    "city=input(\"Enter the city:\")\n",
    "\n",
    "if city=='Delhi' or city==\"delhi\":\n",
    "    print(\"Monument:Red Fort\")\n",
    "elif city=='Agra' or city==\"agra\":\n",
    "    print(\"Monument:Taj Mahal\")\n",
    "elif city=='Jaipur' or city==\"jaipur\":\n",
    "    print(\"Monument:Jal Mahal\")\n",
    "else:\n",
    "    print(\"No Monument\")\n"
   ]
  },
  {
   "cell_type": "code",
   "execution_count": 2,
   "id": "75b9b96f-b323-4f27-8683-e038c15384f7",
   "metadata": {},
   "outputs": [
    {
     "name": "stdin",
     "output_type": "stream",
     "text": [
      "Enter any number: 900\n"
     ]
    },
    {
     "name": "stdout",
     "output_type": "stream",
     "text": [
      "2 times it can be divided by 3\n"
     ]
    }
   ],
   "source": [
    "#Q.4\n",
    "n=int(input(\"Enter any number:\"))\n",
    "sum=0\n",
    "while(n>10):\n",
    "    if n%3==0:\n",
    "        sum=sum+1\n",
    "        n=n/3\n",
    "    else:\n",
    "        break\n",
    "\n",
    "\n",
    "print(sum,\"times it can be divided by 3\")"
   ]
  },
  {
   "cell_type": "code",
   "execution_count": 6,
   "id": "549f598e-5e6f-4674-a9fa-3a90916bb8c8",
   "metadata": {},
   "outputs": [
    {
     "name": "stdout",
     "output_type": "stream",
     "text": [
      "1\n",
      "2\n",
      "3\n",
      "4\n",
      "5\n",
      "6\n",
      "7\n",
      "8\n",
      "9\n",
      "10\n"
     ]
    }
   ],
   "source": [
    "#Q.5\n",
    "\n",
    "# We generally use while loop when we know the fixed condition for which the loop will run. When we know the condition for which we have to \n",
    "# check if it is true or not we use while loop, it can iterates till it becomes false and then terminates once the condition is false.\n",
    "\n",
    "#Example\n",
    "i=1\n",
    "while(i<=10):\n",
    "    print(i)\n",
    "    i=i+1\n",
    "    \n",
    "# In this example we know that we have to print the values of i till is less than or equal to 10"
   ]
  },
  {
   "cell_type": "code",
   "execution_count": 2,
   "id": "e708658d-9bd7-4790-a9f0-399071de62ff",
   "metadata": {},
   "outputs": [
    {
     "name": "stdin",
     "output_type": "stream",
     "text": [
      "Enter any number: 5\n"
     ]
    },
    {
     "name": "stdout",
     "output_type": "stream",
     "text": [
      "Pattern 1\n",
      "* * * * * \n",
      "* * * * \n",
      "* * * \n",
      "* * \n",
      "* \n",
      "Pattern 2\n",
      "* \n",
      "* * \n",
      "* * * \n",
      "* * * * \n",
      "* * * * * \n",
      "Pattern 3\n",
      "1 \n",
      "2 2 \n",
      "3 3 3 \n",
      "4 4 4 4 \n",
      "5 5 5 5 5 \n"
     ]
    }
   ],
   "source": [
    "#Q.6\n",
    "n=int(input(\"Enter any number:\"))\n",
    "print(\"Pattern 1\")\n",
    "i=1\n",
    "while(i<=n):\n",
    "    j=n\n",
    "    while(j>=i):\n",
    "        print(\"*\", end=\" \")\n",
    "        j=j-1\n",
    "    print()\n",
    "    i=i+1\n",
    "    \n",
    "print(\"Pattern 2\")\n",
    "i=1\n",
    "while(i<=n):\n",
    "    j=1\n",
    "    while(j<=i):\n",
    "        print(\"*\", end=\" \")\n",
    "        j=j+1\n",
    "    print()\n",
    "    i=i+1\n",
    "    \n",
    "print(\"Pattern 3\")\n",
    "i=1\n",
    "while(i<=n):\n",
    "    j=1\n",
    "    while(j<=i):\n",
    "        print(i, end=\" \")\n",
    "        j=j+1\n",
    "    print()\n",
    "    i=i+1"
   ]
  },
  {
   "cell_type": "code",
   "execution_count": null,
   "id": "29858cfc-b004-4bed-95cc-2908c2b4b6c4",
   "metadata": {},
   "outputs": [],
   "source": [
    "#Q.7 and Q.8\n",
    "i=10\n",
    "while i>0:\n",
    "    print(i)\n",
    "    i=i-1"
   ]
  },
  {
   "cell_type": "code",
   "execution_count": null,
   "id": "d418a995-b43d-4d1b-9afb-f18431c0ea01",
   "metadata": {},
   "outputs": [],
   "source": []
  },
  {
   "cell_type": "code",
   "execution_count": null,
   "id": "0feeb1bf-fe33-4186-835b-cf561402a320",
   "metadata": {},
   "outputs": [],
   "source": []
  }
 ],
 "metadata": {
  "kernelspec": {
   "display_name": "Python 3 (ipykernel)",
   "language": "python",
   "name": "python3"
  },
  "language_info": {
   "codemirror_mode": {
    "name": "ipython",
    "version": 3
   },
   "file_extension": ".py",
   "mimetype": "text/x-python",
   "name": "python",
   "nbconvert_exporter": "python",
   "pygments_lexer": "ipython3",
   "version": "3.10.8"
  }
 },
 "nbformat": 4,
 "nbformat_minor": 5
}
