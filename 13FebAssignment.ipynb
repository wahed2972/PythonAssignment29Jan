{
 "cells": [
  {
   "cell_type": "code",
   "execution_count": 2,
   "id": "a2edc538-58e3-42d9-913d-d70171c29974",
   "metadata": {},
   "outputs": [],
   "source": [
    "# Q.1\n",
    "# We have to use Exception class while creating a custom exception because\n",
    "# It improves the readability of the code,it also enhances the features of reusability\n",
    "# And it also provides  messages and instructions to users for specific use cases and it makes our code easier to manage."
   ]
  },
  {
   "cell_type": "code",
   "execution_count": 2,
   "id": "b718f981-2b62-425a-b3b4-7eb70ddbec80",
   "metadata": {},
   "outputs": [
    {
     "name": "stdout",
     "output_type": "stream",
     "text": [
      "Python Exception Hierarchy:\n",
      "BaseException\n",
      "-- ArithmeticError\n",
      "-- AssertionError\n",
      "-- AttributeError\n",
      "-- BaseException\n",
      "-- BlockingIOError\n",
      "-- BrokenPipeError\n",
      "-- BufferError\n",
      "-- BytesWarning\n",
      "-- ChildProcessError\n",
      "-- ConnectionAbortedError\n",
      "-- ConnectionError\n",
      "-- ConnectionRefusedError\n",
      "-- ConnectionResetError\n",
      "-- DeprecationWarning\n",
      "-- EOFError\n",
      "-- EncodingWarning\n",
      "-- OSError\n",
      "-- Exception\n",
      "-- FileExistsError\n",
      "-- FileNotFoundError\n",
      "-- FloatingPointError\n",
      "-- FutureWarning\n",
      "-- GeneratorExit\n",
      "-- OSError\n",
      "-- ImportError\n",
      "-- ImportWarning\n",
      "-- IndentationError\n",
      "-- IndexError\n",
      "-- InterruptedError\n",
      "-- IsADirectoryError\n",
      "-- KeyError\n",
      "-- KeyboardInterrupt\n",
      "-- LookupError\n",
      "-- MemoryError\n",
      "-- ModuleNotFoundError\n",
      "-- NameError\n",
      "-- NotADirectoryError\n",
      "-- NotImplementedError\n",
      "-- OSError\n",
      "-- OverflowError\n",
      "-- PendingDeprecationWarning\n",
      "-- PermissionError\n",
      "-- ProcessLookupError\n",
      "-- RecursionError\n",
      "-- ReferenceError\n",
      "-- ResourceWarning\n",
      "-- RuntimeError\n",
      "-- RuntimeWarning\n",
      "-- StopAsyncIteration\n",
      "-- StopIteration\n",
      "-- SyntaxError\n",
      "-- SyntaxWarning\n",
      "-- SystemError\n",
      "-- SystemExit\n",
      "-- TabError\n",
      "-- TimeoutError\n",
      "-- TypeError\n",
      "-- UnboundLocalError\n",
      "-- UnicodeDecodeError\n",
      "-- UnicodeEncodeError\n",
      "-- UnicodeError\n",
      "-- UnicodeTranslateError\n",
      "-- UnicodeWarning\n",
      "-- UserWarning\n",
      "-- ValueError\n",
      "-- Warning\n",
      "-- ZeroDivisionError\n"
     ]
    }
   ],
   "source": [
    "# Q.2\n",
    "import inspect\n",
    "\n",
    "def print_exception_hierarchy():\n",
    "    exception_hierarchy = []\n",
    "    for name, obj in inspect.getmembers(__builtins__):\n",
    "        if inspect.isclass(obj) and issubclass(obj, BaseException):\n",
    "            exception_hierarchy.append(obj.__name__)\n",
    "\n",
    "    print(\"Python Exception Hierarchy:\")\n",
    "    print(\"BaseException\")\n",
    "    for exception in exception_hierarchy:\n",
    "        print(\"--\", exception)\n",
    "\n",
    "print_exception_hierarchy()\n",
    "\n"
   ]
  },
  {
   "cell_type": "code",
   "execution_count": 10,
   "id": "05da0ed6-2c65-4987-871d-4f3a3e3a8c4d",
   "metadata": {},
   "outputs": [
    {
     "name": "stdout",
     "output_type": "stream",
     "text": [
      "division by zero\n",
      "math domain error\n"
     ]
    }
   ],
   "source": [
    "# Q.3\n",
    "# Arithmetic Exception is the base class of all the exceptions which occures due to arithmetic operations\n",
    "# Example 1\n",
    "try:\n",
    "    print(10/0)\n",
    "except ZeroDivisionError as e:\n",
    "    print(e)\n",
    "    \n",
    "# In this example zero division error which comes under arithmetic exception occurs when any number is divided by zero\n",
    "\n",
    "# Example 2\n",
    "import math\n",
    "\n",
    "try:\n",
    "    r = math.sqrt(-1)\n",
    "except ValueError as e:\n",
    "    print(e)\n",
    "# In this example the exception is occured which is math domain error as square root of negative number cannot be find"
   ]
  },
  {
   "cell_type": "code",
   "execution_count": 11,
   "id": "057bf867-f344-4b10-8038-e5d36d658366",
   "metadata": {},
   "outputs": [
    {
     "name": "stdout",
     "output_type": "stream",
     "text": [
      "'d'\n",
      "Error: list index out of range\n"
     ]
    }
   ],
   "source": [
    "# Q.4\n",
    "# Lookup error class is a base class for exceptions that occur when exception occurs due to lookup or indexing\n",
    "# KeyError\n",
    "my_dict = {'a': 1, 'b': 2, 'c': 3}\n",
    "\n",
    "try:\n",
    "    value = my_dict['d']\n",
    "except KeyError as e:\n",
    "    print(e)\n",
    "# Key error occurs when we try to access a key which is not avalaible in the dictionary , here key \"d\" is not availble which leads to exception\n",
    "\n",
    "# Index error\n",
    "my_list = [1, 2, 3]\n",
    "\n",
    "try:\n",
    "    value = my_list[3]\n",
    "except IndexError as e:\n",
    "    print(\"Error:\", e)\n",
    "\n",
    "# Index error occurs when we try to access a list or tuple index which is not available , here max index value is 2 but we are accessing index 3 which leads to exception \n",
    "    "
   ]
  },
  {
   "cell_type": "code",
   "execution_count": 12,
   "id": "93b49636-a071-42c6-8c3e-292123083b55",
   "metadata": {},
   "outputs": [],
   "source": [
    "# Q.5\n",
    "\n",
    "# Import error\n",
    "# It occurs when it fails to locate or load an module , so it leads to exception of import error\n",
    "\n",
    "# ModuleNotFoundError\n",
    "# It is  a subclass of import error , it occurs when a module is not found during import"
   ]
  },
  {
   "cell_type": "code",
   "execution_count": 13,
   "id": "ad1947c1-7ba0-49c9-a120-557b7c62c2c8",
   "metadata": {},
   "outputs": [],
   "source": [
    "# Q.6\n",
    "# Best Practice for Exception handling\n",
    "# 1. Always use a specific exception\n",
    "# 2. Always print a proper message\n",
    "# 3. Always try to log your error\n",
    "# 4. Always avoid to write a multiple exception handling\n",
    "# 5. Document all the error\n",
    "# 6. Clean up all the resources"
   ]
  },
  {
   "cell_type": "code",
   "execution_count": null,
   "id": "581a9263-d77f-49ca-8626-c129d0f25dc6",
   "metadata": {},
   "outputs": [],
   "source": []
  }
 ],
 "metadata": {
  "kernelspec": {
   "display_name": "Python 3 (ipykernel)",
   "language": "python",
   "name": "python3"
  },
  "language_info": {
   "codemirror_mode": {
    "name": "ipython",
    "version": 3
   },
   "file_extension": ".py",
   "mimetype": "text/x-python",
   "name": "python",
   "nbconvert_exporter": "python",
   "pygments_lexer": "ipython3",
   "version": "3.10.8"
  }
 },
 "nbformat": 4,
 "nbformat_minor": 5
}
