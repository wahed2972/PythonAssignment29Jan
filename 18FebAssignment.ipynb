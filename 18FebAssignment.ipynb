{
 "cells": [
  {
   "cell_type": "code",
   "execution_count": 1,
   "id": "b8ea5bb4-98a2-4f34-89fb-aad6de952ef4",
   "metadata": {},
   "outputs": [],
   "source": [
    "# Q.1\n",
    "\n",
    "# API stands for Application Programming Interface.\n",
    "# It is set of rules and protocols that allows different software applications to communicate and interact with each other.\n",
    "\n",
    "# Example:\n",
    "# An API is used in UPI payments in real life where it communicates with the bank after getting the succesfull UPI password.\n"
   ]
  },
  {
   "cell_type": "code",
   "execution_count": 2,
   "id": "9224939a-66d8-40ee-95c2-ff695a9a54bb",
   "metadata": {},
   "outputs": [],
   "source": [
    "# Q.2\n",
    "\n",
    "# Advantages of UPI\n",
    "# 1. Efficiency\n",
    "# 2. Flexibility\n",
    "# 3. Scalability\n",
    "# 4. Integration\n",
    "# 5. Innovation and Collaboration\n",
    "\n",
    "# Disadvantages of UPI\n",
    "# 1. Dependency on Third parties\n",
    "# 2. Security and Privacy Risks\n",
    "# 3. Versioning and Compatibility\n",
    "# 4. Documentation and Support"
   ]
  },
  {
   "cell_type": "code",
   "execution_count": 1,
   "id": "ef53419e-6bf5-4673-9263-06c4eee43285",
   "metadata": {},
   "outputs": [],
   "source": [
    "# Q.3\n",
    "\n",
    "# A Web API is a type of API which is specifically designed to be used over the internet.\n",
    "# It provides a set of rules and protocols that enable communication and data exchange between different web based application.\n",
    "\n",
    "# Difference\n",
    "# API is set of rules and protocols that allows different software applications to communicate and interact with each other.\n",
    "# It can be used in both within an application and between different application.\n",
    "\n",
    "# Web API on other hand refers too API that are built for web applications and accessed over the internet using HTTP protocol.\n",
    "# It uses HTTP methods like get,post"
   ]
  },
  {
   "cell_type": "code",
   "execution_count": 2,
   "id": "6faeb338-537c-4cbd-825f-ede61220a64f",
   "metadata": {},
   "outputs": [],
   "source": [
    "# Q.4\n",
    "\n",
    "# REST Architecture:\n",
    "# REST is an architectural style that focuses on simplicity, scalability, and statelessness. \n",
    "# It is based on a set of principles and constraints that define how web services should be designed and implemented.\n",
    "\n",
    "# SOAP Architecture\n",
    "# SOAP is a protocol for exchanging structured information in web services.\n",
    "# It is based on XML and provides a more formal and complex framework\n",
    "\n",
    "# Shortcomings of SOAP\n",
    "# 1. Complexity\n",
    "# 2. Performance\n",
    "# 3. Lack of Compatibility\n",
    "# 4. Limited Browser Support\n"
   ]
  },
  {
   "cell_type": "code",
   "execution_count": 4,
   "id": "8121e08c-e655-4cad-a9d5-f167080eda3d",
   "metadata": {},
   "outputs": [],
   "source": [
    "# Q.5\n",
    "\n",
    "# REST\n",
    "# REST uses HTTP methods like get,post,put and delete.\n",
    "# It is lightweight\n",
    "# It is stateless\n",
    "# It is more flexible and compatible\n",
    "# It is more efficient in terms of performance\n",
    "\n",
    "# SOAP\n",
    "# SOAP messages are transmitted through HTTP, SMTP and TCP/IP.\n",
    "# It represented using XML language.\n",
    "# It is not fast in performance.\n",
    "# It is more secure\n",
    "# It can be used for more complex interaction."
   ]
  },
  {
   "cell_type": "code",
   "execution_count": null,
   "id": "793f551f-4dca-4b0b-ae19-63b14528aaca",
   "metadata": {},
   "outputs": [],
   "source": []
  }
 ],
 "metadata": {
  "kernelspec": {
   "display_name": "Python 3 (ipykernel)",
   "language": "python",
   "name": "python3"
  },
  "language_info": {
   "codemirror_mode": {
    "name": "ipython",
    "version": 3
   },
   "file_extension": ".py",
   "mimetype": "text/x-python",
   "name": "python",
   "nbconvert_exporter": "python",
   "pygments_lexer": "ipython3",
   "version": "3.10.8"
  }
 },
 "nbformat": 4,
 "nbformat_minor": 5
}
