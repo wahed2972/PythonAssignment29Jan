{
 "cells": [
  {
   "cell_type": "code",
   "execution_count": 1,
   "id": "1ac13a69-2941-4905-b746-874a02056476",
   "metadata": {},
   "outputs": [],
   "source": [
    "# Q.1\n",
    "\n",
    "# A class in object oriented is a blueprint that defines methods and variables.\n",
    "\n",
    "# An object is an instance of class\n",
    "\n",
    "# Example \n",
    "# Car can be of many types like maruti,hyundai,nissan,honda which comes under the class Car and all these brands of car can be the object of class car."
   ]
  },
  {
   "cell_type": "code",
   "execution_count": 2,
   "id": "b034c6dd-b1e7-4cf4-a767-6bac5ad31c46",
   "metadata": {},
   "outputs": [],
   "source": [
    "# Q.2\n",
    "\n",
    "# Four pillars of OOPs\n",
    "# 1. Encapsulation\n",
    "# 2. Abstraction\n",
    "# 3. Polymorphism\n",
    "# 4. Inheritence"
   ]
  },
  {
   "cell_type": "code",
   "execution_count": 7,
   "id": "46ea880a-299f-42fa-a1a1-31c81c6a1985",
   "metadata": {},
   "outputs": [
    {
     "data": {
      "text/plain": [
       "'suzuki'"
      ]
     },
     "execution_count": 7,
     "metadata": {},
     "output_type": "execute_result"
    }
   ],
   "source": [
    "# Q.3\n",
    "\n",
    "# __init__() acts as an contructor to a class which is called everytime when a object is created. It is used to initialize the objects attributes\n",
    "\n",
    "class car:\n",
    "    def __init__(self,name):\n",
    "        self.name=name\n",
    "    \n",
    "    def car_name(self):\n",
    "        return self.name\n",
    "    \n",
    "a = car(\"suzuki\")\n",
    "a.car_name()\n",
    "        "
   ]
  },
  {
   "cell_type": "code",
   "execution_count": 8,
   "id": "026b7af4-7b06-47dd-bfbc-720c9c6fbeb2",
   "metadata": {},
   "outputs": [],
   "source": [
    "# Q.4\n",
    "\n",
    "# self varaible can be used to represent the instance of class.It is used for referencing the object maens for refer the attributes and methods of a class\n",
    "# It is not necessary to use self only we can use other name also as self is not reserved keyword"
   ]
  },
  {
   "cell_type": "code",
   "execution_count": 1,
   "id": "86fb2b42-d752-47d6-976b-f1e236c9bb3e",
   "metadata": {},
   "outputs": [
    {
     "data": {
      "text/plain": [
       "'This is class1'"
      ]
     },
     "execution_count": 2,
     "metadata": {},
     "output_type": "execute_result"
    }
   ],
   "source": [
    "# Q.5\n",
    "# Inheritance means when a class derives or inherites from subclass or parent class where code can be reused again.\n",
    "\n",
    "# Single Inheritance\n",
    "class class1:\n",
    "    \n",
    "    def cls1(self):\n",
    "        return \"This is class1\"\n",
    "\n",
    "class class2(class1):\n",
    "    pass\n",
    "\n",
    "si = class2()\n",
    "si.cls1()\n",
    "\n",
    "# Multilevel Inheritance\n",
    "class _class1:\n",
    "    \n",
    "    def _cls1(self):\n",
    "        return \"This is class1\"\n",
    "\n",
    "class _class2(_class1):\n",
    "    def _cls2(self):\n",
    "        return \"This is class2\"\n",
    "\n",
    "class _class3(_class2):\n",
    "    pass\n",
    "\n",
    "ml = _class3()\n",
    "ml._cls2()\n",
    "ml._cls1()\n",
    "\n",
    "# Multiple Inheritance\n",
    "class __class1:\n",
    "    \n",
    "    def __cls1(self):\n",
    "        return \"This is class1\"\n",
    "\n",
    "class __class2(_class1):\n",
    "    def __cls2(self):\n",
    "        return \"This is class2\"\n",
    "\n",
    "class _class3(__class1,__class2):\n",
    "    pass\n",
    "\n",
    "ml = _class3()\n",
    "ml._cls2()\n",
    "ml._cls1()"
   ]
  },
  {
   "cell_type": "code",
   "execution_count": null,
   "id": "8f321957-f4a5-4994-a3f5-8083c2e558df",
   "metadata": {},
   "outputs": [],
   "source": []
  }
 ],
 "metadata": {
  "kernelspec": {
   "display_name": "Python 3 (ipykernel)",
   "language": "python",
   "name": "python3"
  },
  "language_info": {
   "codemirror_mode": {
    "name": "ipython",
    "version": 3
   },
   "file_extension": ".py",
   "mimetype": "text/x-python",
   "name": "python",
   "nbconvert_exporter": "python",
   "pygments_lexer": "ipython3",
   "version": "3.10.8"
  }
 },
 "nbformat": 4,
 "nbformat_minor": 5
}
