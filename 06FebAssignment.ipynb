{
 "cells": [
  {
   "cell_type": "code",
   "execution_count": 18,
   "id": "a79748c2-f1e3-4044-b8c3-48efb8a13d9e",
   "metadata": {},
   "outputs": [
    {
     "name": "stdout",
     "output_type": "stream",
     "text": [
      "[1, 2, 3, 4, 44, 55, 66, 34, 56, 78, 89, 34, 1, 2, 3, 34, 45, 22, 61, 34, 1, 4, 56]\n",
      "Product is:\n",
      "1.616304366040891e+26\n"
     ]
    }
   ],
   "source": [
    "# Q.1\n",
    "\n",
    "list = [1,2,3,4, [44,55,66, True], False, (34,56,78,89,34), {1,2,3,3,2,1}, {1:34, \"key2\": [55, 67, 78, 89], 4: (45,\n",
    "22, 61, 34)}, [56, 'data science'], 'Machine Learning']\n",
    "\n",
    "def prod(list1):\n",
    "    p=1.0\n",
    "    f_list=[]\n",
    "\n",
    "    for i in list1:\n",
    "        if(type(i)==int):\n",
    "            f_list.append(i)\n",
    "   \n",
    "        elif (type(i)==bool):\n",
    "            continue\n",
    "        elif (type(i)==dict):\n",
    "            for j in i.values():\n",
    "                if(type(j)==int):\n",
    "                    f_list.append(j)\n",
    "               \n",
    "                elif(type(j)==list or type(j)==tuple):\n",
    "                    for k in j:\n",
    "                        if(type(k)==int):\n",
    "                            f_list.append(k)\n",
    "                      \n",
    "            for j in i.keys():\n",
    "                if(type(j)==int):\n",
    "                    f_list.append(j)\n",
    "                \n",
    "        \n",
    "        else:   \n",
    "            for j in i:\n",
    "                if(type(j)==int):\n",
    "                    f_list.append(j)\n",
    "    print(f_list)            \n",
    "    for i in f_list:\n",
    "        p=p*i\n",
    "    return p\n",
    "\n",
    "list = [1,2,3,4, [44,55,66, True], False, (34,56,78,89,34), {1,2,3,3,2,1}, {1:34, \"key2\": [55, 67, 78, 89], 4: (45,\n",
    "22, 61, 34)}, [56, 'data science'], 'Machine Learning']    \n",
    "a=prod(list)\n",
    "print(\"Product is:\")\n",
    "print(a)\n",
    "\n"
   ]
  },
  {
   "cell_type": "code",
   "execution_count": 3,
   "id": "ee4e810d-a1ee-466e-a5bf-349909b42a0c",
   "metadata": {},
   "outputs": [
    {
     "name": "stdout",
     "output_type": "stream",
     "text": [
      "i$wznt$to$yexome$z$dztz$sxientist.\n"
     ]
    }
   ],
   "source": [
    "# Q.2\n",
    "\n",
    "s = \"I want to become a Data Scientist.\"\n",
    "s = s.lower()\n",
    "for i in s:\n",
    "    if i==\"a\":\n",
    "        s = s.replace(\"a\",\"z\")\n",
    "    elif i==\"b\":\n",
    "        s = s.replace(\"b\",\"y\")\n",
    "    elif i==\"c\":\n",
    "        s = s.replace(\"c\",\"x\")\n",
    "    elif i==\" \":\n",
    "        s = s.replace(\" \",\"$\")\n",
    "print(s)"
   ]
  }
 ],
 "metadata": {
  "kernelspec": {
   "display_name": "Python 3 (ipykernel)",
   "language": "python",
   "name": "python3"
  },
  "language_info": {
   "codemirror_mode": {
    "name": "ipython",
    "version": 3
   },
   "file_extension": ".py",
   "mimetype": "text/x-python",
   "name": "python",
   "nbconvert_exporter": "python",
   "pygments_lexer": "ipython3",
   "version": "3.10.8"
  }
 },
 "nbformat": 4,
 "nbformat_minor": 5
}
