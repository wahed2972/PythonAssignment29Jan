{
 "cells": [
  {
   "cell_type": "code",
   "execution_count": 6,
   "id": "0821869c-2cf5-44f2-b9df-167833a2c73a",
   "metadata": {
    "tags": []
   },
   "outputs": [
    {
     "name": "stdout",
     "output_type": "stream",
     "text": [
      "For loop\n",
      "1\n",
      "2\n",
      "3\n",
      "4\n",
      "5\n",
      "6\n",
      "7\n",
      "8\n",
      "9\n",
      "10\n",
      "While loop\n",
      "0\n",
      "1\n",
      "2\n",
      "3\n",
      "4\n",
      "5\n",
      "6\n",
      "7\n",
      "8\n",
      "9\n"
     ]
    }
   ],
   "source": [
    "#Q.1\n",
    "# for loop\n",
    "print(\"For loop\")\n",
    "for i in range(1,11):\n",
    "    print(i)\n",
    "    \n",
    "# For loop is generally used when we know how many iterations we have to perform that is fixed number of iterations.\n",
    "# In this example we know we have to execute 10 times to print from 1 to 10, thats why we used for loop.\n",
    "\n",
    "# while loop\n",
    "# When the iterations are not fixed and we have to evaluate based on certain condition if it is true then we use while loop.\n",
    "# In while loop we dont have idea how many times the loop will run\n",
    "\n",
    "print(\"While loop\")\n",
    "i=0\n",
    "while(i<10):\n",
    "    print(i)\n",
    "    i+=1"
   ]
  },
  {
   "cell_type": "code",
   "execution_count": 12,
   "id": "42360165-b7b5-443b-9819-1e4efa9c9dd3",
   "metadata": {
    "tags": []
   },
   "outputs": [
    {
     "name": "stdout",
     "output_type": "stream",
     "text": [
      "For Loop\n",
      "The sum of first 10 natural numbers is 55\n",
      "The multiplication of first 10 natural numbers is 3628800\n",
      "While Loop\n",
      "The sum of first 10 natural numbers is 55\n",
      "The multiplication of first 10 natural numbers is 3628800\n"
     ]
    }
   ],
   "source": [
    "#Q.2\n",
    "\n",
    "print(\"For Loop\")\n",
    "sumf=0\n",
    "mulf=1\n",
    "for i in range(1,11):\n",
    "    sumf=sumf+i\n",
    "    mulf=mulf*i\n",
    "print(\"The sum of first 10 natural numbers is\",sumf)\n",
    "print(\"The multiplication of first 10 natural numbers is\",mulf)\n",
    "\n",
    "print(\"While Loop\")\n",
    "i=1\n",
    "sumw=0\n",
    "mulw=1\n",
    "while(i<=10):\n",
    "    sumw=sumw+i\n",
    "    mulw=mulw*i\n",
    "    i+=1\n",
    "print(\"The sum of first 10 natural numbers is\",sumw)\n",
    "print(\"The multiplication of first 10 natural numbers is\",mulw)"
   ]
  },
  {
   "cell_type": "code",
   "execution_count": 3,
   "id": "64e129b7-d0e1-4220-a5ee-82447647ae4f",
   "metadata": {
    "tags": []
   },
   "outputs": [
    {
     "name": "stdin",
     "output_type": "stream",
     "text": [
      "Enter the electricity consumed in a month: 310\n"
     ]
    },
    {
     "name": "stdout",
     "output_type": "stream",
     "text": [
      "2250.0\n"
     ]
    }
   ],
   "source": [
    "# Q.3\n",
    "\n",
    "unit=int(input(\"Enter the electricity consumed in a month:\"))\n",
    "\n",
    "if(unit<=100):\n",
    "    charge=4.5*unit\n",
    "elif(unit>100 and unit<=200):\n",
    "    x=unit-100\n",
    "    charge=4.5*100 + 6*x\n",
    "elif(unit>200 and unit<=300):\n",
    "    x=unit-200\n",
    "    charge=4.5*100 + 6*100 + 10*x\n",
    "else:\n",
    "    x=unit-300\n",
    "    charge=4.5*100 + 6*100 + 10*100 + 20*x\n",
    "    \n",
    "print(charge)"
   ]
  },
  {
   "cell_type": "code",
   "execution_count": 5,
   "id": "fbc95bad-aaf3-42c3-95cc-3b24d89d7711",
   "metadata": {},
   "outputs": [
    {
     "name": "stdout",
     "output_type": "stream",
     "text": [
      "List from 1 to 100\n",
      "[1, 2, 3, 4, 5, 6, 7, 8, 9, 10, 11, 12, 13, 14, 15, 16, 17, 18, 19, 20, 21, 22, 23, 24, 25, 26, 27, 28, 29, 30, 31, 32, 33, 34, 35, 36, 37, 38, 39, 40, 41, 42, 43, 44, 45, 46, 47, 48, 49, 50, 51, 52, 53, 54, 55, 56, 57, 58, 59, 60, 61, 62, 63, 64, 65, 66, 67, 68, 69, 70, 71, 72, 73, 74, 75, 76, 77, 78, 79, 80, 81, 82, 83, 84, 85, 86, 87, 88, 89, 90, 91, 92, 93, 94, 95, 96, 97, 98, 99, 100]\n",
      "Using For loop\n",
      "[10, 20, 30, 40, 50, 60, 70, 80, 90, 100]\n",
      "Using While loop\n",
      "[10, 20, 30, 40, 50, 60, 70, 80, 90, 100]\n"
     ]
    }
   ],
   "source": [
    "# Q.4\n",
    "l=[]\n",
    "lf=[]\n",
    "lw=[]\n",
    "for i in range(1,101):\n",
    "    l.append(i)\n",
    "\n",
    "#Using For loop\n",
    "for i in l:\n",
    "    if((i*i)%4==0 and (i*i)%5==0):\n",
    "        lf.append(i)\n",
    "\n",
    "#Using While loop\n",
    "j=0\n",
    "while(j<100):\n",
    "    i=l[j]\n",
    "    if((i*i)%4==0 and (i*i)%5==0):\n",
    "        lw.append(i)\n",
    "    j+=1\n",
    "\n",
    "print(\"List from 1 to 100\")\n",
    "print(l)\n",
    "\n",
    "print(\"Using For loop\")\n",
    "print(lf)\n",
    "\n",
    "print(\"Using While loop\")\n",
    "print(lw)"
   ]
  },
  {
   "cell_type": "code",
   "execution_count": 8,
   "id": "c0638173-06c8-499a-9b6d-6422733e3909",
   "metadata": {},
   "outputs": [
    {
     "name": "stdout",
     "output_type": "stream",
     "text": [
      "Number of vowels in string: 11\n"
     ]
    }
   ],
   "source": [
    "# Q.5\n",
    "\n",
    "string = \"I want to become a data scientist\"\n",
    "\n",
    "count=0\n",
    "for i in string:\n",
    "    if i=='a' or i=='e' or i=='i' or i=='o' or i=='u':\n",
    "        count+=1\n",
    "print(\"Number of vowels in string:\",count)"
   ]
  }
 ],
 "metadata": {
  "kernelspec": {
   "display_name": "Python 3 (ipykernel)",
   "language": "python",
   "name": "python3"
  },
  "language_info": {
   "codemirror_mode": {
    "name": "ipython",
    "version": 3
   },
   "file_extension": ".py",
   "mimetype": "text/x-python",
   "name": "python",
   "nbconvert_exporter": "python",
   "pygments_lexer": "ipython3",
   "version": "3.10.8"
  }
 },
 "nbformat": 4,
 "nbformat_minor": 5
}
