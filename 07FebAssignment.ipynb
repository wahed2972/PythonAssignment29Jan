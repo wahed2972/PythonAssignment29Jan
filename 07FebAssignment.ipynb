{
 "cells": [
  {
   "cell_type": "code",
   "execution_count": 6,
   "id": "86543121-41e7-4536-9ea6-f7b40ab41a9b",
   "metadata": {},
   "outputs": [
    {
     "data": {
      "text/plain": [
       "'Valid Password'"
      ]
     },
     "execution_count": 6,
     "metadata": {},
     "output_type": "execute_result"
    }
   ],
   "source": [
    "# Q.1\n",
    "\n",
    "def password(s):\n",
    "    cl,cu,cn,cs=0,0,0,0\n",
    "    for i in s:\n",
    "        if i.islower()==True:\n",
    "            cl+=1\n",
    "        elif i.isupper()==True:\n",
    "            cu+=1\n",
    "    if (cl>=2 and cu>=2):\n",
    "        for i in s:\n",
    "            if i.isnumeric()==True:\n",
    "                cn+=1\n",
    "            elif i.isalnum()==False:\n",
    "                cs+=1\n",
    "        if(cn>=1 and cs>=3):\n",
    "            if len(s)==10:\n",
    "                return \"Valid Password\"\n",
    "            else:\n",
    "                return \"Invalid Password\"\n",
    "        else:\n",
    "            return \"Invalid Password\"\n",
    "    else:\n",
    "        return \"Invalid Password\"\n",
    "\n",
    "s=\"ABdul39/*$\"\n",
    "password(s)\n"
   ]
  },
  {
   "cell_type": "code",
   "execution_count": 3,
   "id": "2b3df156-5c29-4a86-9d91-4ddae9f9b039",
   "metadata": {},
   "outputs": [
    {
     "name": "stdout",
     "output_type": "stream",
     "text": [
      "Check if the string starts with a particular letter\n",
      "Starts with required letter\n",
      "\n",
      "Check if the string is numeric\n",
      "Is numeric\n",
      "Sort a list of tuples having fruit names and their quantity.\n",
      "[('orange', 80), ('mango', 99), ('grapes', 1000)]\n",
      "\n",
      "Find the squares of number from 1-10\n",
      "[1, 4, 9, 16, 25, 36, 49, 64, 81, 100]\n",
      "\n",
      "Find the cubes of number from 1-10\n",
      "[1, 8, 27, 64, 125, 216, 343, 512, 729, 1000]\n",
      "\n",
      "Check if a given number is even\n",
      "Even Number\n",
      "\n",
      "Filter Odd number from given list\n",
      "[1, 3, 5, 7, 9]\n",
      "\n",
      "Sort a list of integers into positive and Negative integer lists\n",
      "\n",
      "Positive Integers\n",
      "[1, 2, 3, 4, 5, 6, 0]\n",
      "\n",
      "Negative Integers\n",
      "[-1, -2, -3, -4, -5]\n"
     ]
    }
   ],
   "source": [
    "# Q.2\n",
    "\n",
    "print(\"Check if the string starts with a particular letter\")\n",
    "s=\"pwskills\"\n",
    "r = lambda x:\"Starts with required letter\" if x[0]==\"p\" else \"Not Start with required letter\"\n",
    "print(r(s))\n",
    "\n",
    "\n",
    "print(\"\\nCheck if the string is numeric\")\n",
    "t = \"39\"\n",
    "n = lambda x: \"Is numeric\" if t.isnumeric()==True else \"Not Numeric\"\n",
    "print(n(t))\n",
    "\n",
    "\n",
    "print(\"Sort a list of tuples having fruit names and their quantity.\") \n",
    "fruit=[(\"mango\",99),(\"orange\",80), (\"grapes\", 1000)]\n",
    "sort_fruit=sorted(fruit,key=lambda x:x[1])\n",
    "print(sort_fruit)\n",
    "       \n",
    "print(\"\\nFind the squares of number from 1-10\")\n",
    "\n",
    "print([i**2 for i in range(1,11)])\n",
    "\n",
    "print(\"\\nFind the cubes of number from 1-10\")\n",
    "print([i**3 for i in range(1,11) ])\n",
    "\n",
    "print(\"\\nCheck if a given number is even\")\n",
    "e = lambda x: \"Even Number\" if x%2==0 else \"Odd Number\"\n",
    "print(e(44))\n",
    "\n",
    "print(\"\\nFilter Odd number from given list\")\n",
    "l=[1,2,3,4,5,6,7,8,9,10]\n",
    "print(list(filter(lambda x:x%2 !=0,l)))\n",
    "\n",
    "print(\"\\nSort a list of integers into positive and Negative integer lists\")\n",
    "l=[1,2,3,4,5,6,-1,-2,-3,-4,-5,0]\n",
    "print(\"\\nPositive Integers\")\n",
    "print(list(filter(lambda x:x>=0,l)))\n",
    "print(\"\\nNegative Integers\")\n",
    "print(list(filter(lambda x:x<0,l)))"
   ]
  }
 ],
 "metadata": {
  "kernelspec": {
   "display_name": "Python 3 (ipykernel)",
   "language": "python",
   "name": "python3"
  },
  "language_info": {
   "codemirror_mode": {
    "name": "ipython",
    "version": 3
   },
   "file_extension": ".py",
   "mimetype": "text/x-python",
   "name": "python",
   "nbconvert_exporter": "python",
   "pygments_lexer": "ipython3",
   "version": "3.10.8"
  }
 },
 "nbformat": 4,
 "nbformat_minor": 5
}
