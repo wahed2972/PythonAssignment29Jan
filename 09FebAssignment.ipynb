{
 "cells": [
  {
   "cell_type": "code",
   "execution_count": 5,
   "id": "b4da49f4-2e10-4214-b03d-7187fbfc3823",
   "metadata": {},
   "outputs": [],
   "source": [
    "# Q.1\n",
    "\n",
    "class vehicle:\n",
    "    def __init__(self, name_of_vehicle, max_speed ,average_of_vehicle):\n",
    "        self.name_of_vehicle = name_of_vehicle\n",
    "        self.max_speed = max_speed\n",
    "        self.average_of_vehicle = average_of_vehicle\n",
    "        "
   ]
  },
  {
   "cell_type": "code",
   "execution_count": 16,
   "id": "fc8e6b11-bcc5-4690-b133-a2d146db5d29",
   "metadata": {},
   "outputs": [
    {
     "name": "stdout",
     "output_type": "stream",
     "text": [
      "Seating capacity and name of car\n"
     ]
    },
    {
     "data": {
      "text/plain": [
       "(8, 'Nissan')"
      ]
     },
     "execution_count": 16,
     "metadata": {},
     "output_type": "execute_result"
    }
   ],
   "source": [
    "# Q.2\n",
    "\n",
    "class car(vehicle):\n",
    "    def __init__(self, name, max_speed, average, capacity):\n",
    "        super().__init__(name, max_speed, average)\n",
    "        self.capacity = capacity\n",
    "    def seating_capacity(self):\n",
    "        print(\"Seating capacity and name of car\")\n",
    "        return self.capacity,self.name_of_vehicle\n",
    "\n",
    "\n",
    "obj = car(\"Nissan\", 200, 56.9, 8)\n",
    "obj.seating_capacity()"
   ]
  },
  {
   "cell_type": "code",
   "execution_count": 37,
   "id": "75a0a155-7f73-4a58-ad9f-7c253af9f893",
   "metadata": {},
   "outputs": [
    {
     "name": "stdout",
     "output_type": "stream",
     "text": [
      "This is class A\n",
      "This is class B\n"
     ]
    }
   ],
   "source": [
    "# Q.3\n",
    "\n",
    "# Multiple Inheritance means when a class inherit from more than one parent class. \n",
    "# For Example we have three classes A,B and C. And C is inheriting from A and B so C is the child class of class A and B\n",
    "\n",
    "class clsA:\n",
    "    def classA(self):\n",
    "        \n",
    "        return \"This is class A\"\n",
    "    \n",
    "class clsB:\n",
    "    def classB(self):\n",
    "        return \"This is class B\"\n",
    "    \n",
    "class clsC(clsA, clsB):\n",
    "    pass\n",
    "\n",
    "c_object = clsC()\n",
    "print(c_object.classA())\n",
    "print(c_object.classB())"
   ]
  },
  {
   "cell_type": "code",
   "execution_count": 41,
   "id": "298e62f8-da9c-409e-b0f3-1beec8adaf70",
   "metadata": {},
   "outputs": [
    {
     "name": "stdout",
     "output_type": "stream",
     "text": [
      "(5, 6)\n"
     ]
    },
    {
     "data": {
      "text/plain": [
       "(8, 9)"
      ]
     },
     "execution_count": 41,
     "metadata": {},
     "output_type": "execute_result"
    }
   ],
   "source": [
    "# Q.4\n",
    "\n",
    "# Getter and Setter are methods where we get the values and update the values without accessing the variables which can be hidden from outside world\n",
    "\n",
    "class test1:\n",
    "    def __init__(self, a ,b):\n",
    "        self.a=a\n",
    "        self.b=b\n",
    "    \n",
    "    def getter(self):\n",
    "        return self.a,self.b\n",
    "    \n",
    "    def setter(self,a,b):\n",
    "        self.a=a\n",
    "        self.b=b\n",
    "        \n",
    "obj = test1(5,6)\n",
    "print(obj.getter())\n",
    "obj.setter(8,9)\n",
    "obj.getter()"
   ]
  },
  {
   "cell_type": "code",
   "execution_count": 42,
   "id": "0e8ad247-1892-4754-b0ec-bc52d8be0349",
   "metadata": {},
   "outputs": [
    {
     "data": {
      "text/plain": [
       "'This is a child class'"
      ]
     },
     "execution_count": 42,
     "metadata": {},
     "output_type": "execute_result"
    }
   ],
   "source": [
    "# Q.5\n",
    "\n",
    "# If child class has the same method as in parent class then that method is called method overriding\n",
    "\n",
    "class parent:\n",
    "    \n",
    "    def greet(self):\n",
    "        return \"This is a parent class\"\n",
    "    \n",
    "class child(parent):\n",
    "    \n",
    "    def greet (self):\n",
    "        return \"This is a child class\"\n",
    "    \n",
    "pc = child()\n",
    "pc.greet()"
   ]
  }
 ],
 "metadata": {
  "kernelspec": {
   "display_name": "Python 3 (ipykernel)",
   "language": "python",
   "name": "python3"
  },
  "language_info": {
   "codemirror_mode": {
    "name": "ipython",
    "version": 3
   },
   "file_extension": ".py",
   "mimetype": "text/x-python",
   "name": "python",
   "nbconvert_exporter": "python",
   "pygments_lexer": "ipython3",
   "version": "3.10.8"
  }
 },
 "nbformat": 4,
 "nbformat_minor": 5
}
