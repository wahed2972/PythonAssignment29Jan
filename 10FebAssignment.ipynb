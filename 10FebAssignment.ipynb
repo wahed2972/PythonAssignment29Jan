{
 "cells": [
  {
   "cell_type": "code",
   "execution_count": 1,
   "id": "ed4003ed-764f-415f-9819-21a191f389de",
   "metadata": {},
   "outputs": [],
   "source": [
    "# Q.1\n",
    "\n",
    "# open() function is used to open the file\n",
    "# Syntax: f = open(\"file.txt\", \"r\") => This is used to open the file in read mode\n",
    "\n",
    "\n",
    "# Different modes of file are \n",
    "# 1. read => r  It is used to open the file in only read mode , it is default mode.\n",
    "# 2. write => w  It is used to open the file in write mode, but if we open again then the last data will be removed and new data will be added.\n",
    "# 3. append => a It is used to open the file in append mode, it can append the data which means old data will not be lost\n",
    "# 4. binary => b It is used to open the file in binary mode, it contains 2 types wb - write binary and rb - read binary.\n",
    "\n"
   ]
  },
  {
   "cell_type": "code",
   "execution_count": 2,
   "id": "532fb8be-08ac-4919-b8b2-0ad634dd7bef",
   "metadata": {},
   "outputs": [],
   "source": [
    "# Q.2 \n",
    "\n",
    "# close() function is used to close the opened file\n",
    "# Syntax: f.close()\n",
    "\n",
    "# Closing the file is important because when we open the file the operating system allocates the memory and resources to the file,\n",
    "# so when we close the file it can be released and can be used for other files effeciently.\n",
    "# It is also not a good habit to open multiple files as it can affect the performance of the system.\n",
    "# It is also a sign of good programmer to close the file after work is finished."
   ]
  },
  {
   "cell_type": "code",
   "execution_count": 3,
   "id": "1afeb019-cb33-452c-83d1-70436e6f01a5",
   "metadata": {},
   "outputs": [
    {
     "data": {
      "text/plain": [
       "'I want to become a Data Scientist'"
      ]
     },
     "execution_count": 3,
     "metadata": {},
     "output_type": "execute_result"
    }
   ],
   "source": [
    "# Q.3\n",
    "\n",
    "# Write\n",
    "f = open(\"text.txt\",\"w\")\n",
    "f.write(\"I want to become a Data Scientist\")\n",
    "f.close()\n",
    "\n",
    "# Read \n",
    "f = open(\"text.txt\",\"r\")\n",
    "f.read()"
   ]
  },
  {
   "cell_type": "code",
   "execution_count": 4,
   "id": "65e87c1a-a035-498d-afbb-654f54a3eb1e",
   "metadata": {},
   "outputs": [],
   "source": [
    "# Q.4\n",
    "\n",
    "# read() - It is used to read all the content of the file\n",
    "# readline() - It is used to read the content line by line which is useful if the file is very large. It returns single line in a string\n",
    "# readlines() - It is used to read entire file , it returns all the lines in a string"
   ]
  },
  {
   "cell_type": "code",
   "execution_count": 5,
   "id": "982f4df6-b1e4-4439-8c6d-4aaca82d29f5",
   "metadata": {},
   "outputs": [],
   "source": [
    "# Q.5\n",
    "\n",
    "# The with statement is used with open() to open a file and the advantage of using both of them together is that we dont need to close the file,\n",
    "# it automatically closes the file after completion ."
   ]
  },
  {
   "cell_type": "code",
   "execution_count": 6,
   "id": "699c1d4a-b1ad-4d17-b518-0ad8bc5a3e94",
   "metadata": {},
   "outputs": [
    {
     "ename": "TypeError",
     "evalue": "write() argument must be str, not int",
     "output_type": "error",
     "traceback": [
      "\u001b[0;31m---------------------------------------------------------------------------\u001b[0m",
      "\u001b[0;31mTypeError\u001b[0m                                 Traceback (most recent call last)",
      "Cell \u001b[0;32mIn[6], line 11\u001b[0m\n\u001b[1;32m      9\u001b[0m l\u001b[38;5;241m=\u001b[39m[\u001b[38;5;124m\"\u001b[39m\u001b[38;5;124maw\u001b[39m\u001b[38;5;124m\"\u001b[39m,\u001b[38;5;124m\"\u001b[39m\u001b[38;5;124mds\u001b[39m\u001b[38;5;124m\"\u001b[39m,\u001b[38;5;241m1\u001b[39m,\u001b[38;5;241m2\u001b[39m,\u001b[38;5;241m3\u001b[39m]\n\u001b[1;32m     10\u001b[0m f \u001b[38;5;241m=\u001b[39m \u001b[38;5;28mopen\u001b[39m(\u001b[38;5;124m\"\u001b[39m\u001b[38;5;124mtext2.txt\u001b[39m\u001b[38;5;124m\"\u001b[39m,\u001b[38;5;124m\"\u001b[39m\u001b[38;5;124mw\u001b[39m\u001b[38;5;124m\"\u001b[39m)\n\u001b[0;32m---> 11\u001b[0m \u001b[43mf\u001b[49m\u001b[38;5;241;43m.\u001b[39;49m\u001b[43mwritelines\u001b[49m\u001b[43m(\u001b[49m\u001b[43ml\u001b[49m\u001b[43m)\u001b[49m\n\u001b[1;32m     12\u001b[0m f\u001b[38;5;241m.\u001b[39mclose()\n",
      "\u001b[0;31mTypeError\u001b[0m: write() argument must be str, not int"
     ]
    }
   ],
   "source": [
    "# Q.6\n",
    "\n",
    "# write() - write function is used to write the content in a file\n",
    "f = open(\"text1.txt\",\"w\")\n",
    "f.write(\"Hello! Good Morning\")\n",
    "f.close()\n",
    "\n",
    "# writelines() - writelines function is used to write the content of list in the file\n",
    "l=[\"aw\",\"ds\",1,2,3]\n",
    "f = open(\"text2.txt\",\"w\")\n",
    "f.writelines(l)\n",
    "f.close()"
   ]
  },
  {
   "cell_type": "code",
   "execution_count": null,
   "id": "ef0435e3-d545-47bc-951c-89b949293e1b",
   "metadata": {},
   "outputs": [],
   "source": []
  }
 ],
 "metadata": {
  "kernelspec": {
   "display_name": "Python 3 (ipykernel)",
   "language": "python",
   "name": "python3"
  },
  "language_info": {
   "codemirror_mode": {
    "name": "ipython",
    "version": 3
   },
   "file_extension": ".py",
   "mimetype": "text/x-python",
   "name": "python",
   "nbconvert_exporter": "python",
   "pygments_lexer": "ipython3",
   "version": "3.10.8"
  }
 },
 "nbformat": 4,
 "nbformat_minor": 5
}
